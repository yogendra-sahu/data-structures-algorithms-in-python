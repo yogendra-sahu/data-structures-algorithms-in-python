{
 "cells": [
  {
   "cell_type": "markdown",
   "metadata": {
    "collapsed": true
   },
   "source": [
    "## Swap nodes in a linked list without swapping data\n",
    "\n",
    "Given a linked list and two keys in it, swap nodes for two given keys. Nodes should be swapped by changing links. Swapping data of nodes may be expensive in many situations when data contains many fields.  \n",
    "\n",
    "It may be assumed that all keys in linked list are distinct.  \n",
    "\n",
    "Examples:  \n",
    "\n",
    "Input:  10->15->12->13->20->14,  x = 12, y = 20  \n",
    "Output: 10->15->20->13->12->14  \n",
    "\n",
    "Input:  10->15->12->13->20->14,  x = 10, y = 20  \n",
    "Output: 20->15->12->13->10->14  \n",
    "\n",
    "Input:  10->15->12->13->20->14,  x = 12, y = 13  \n",
    "Output: 10->15->13->12->20->14  "
   ]
  },
  {
   "cell_type": "code",
   "execution_count": 8,
   "metadata": {
    "collapsed": true
   },
   "outputs": [],
   "source": [
    "class Node(object):\n",
    "    def __init__(self, data):\n",
    "        self.data = data\n",
    "        self.next = None\n",
    "\n",
    "class SinglyLinkedList(object):\n",
    "    def __init__(self):\n",
    "        self.head = None\n",
    "    \n",
    "    def insertAtEnd(self, new_data):\n",
    "        new_node = Node(new_data) # 1. create a new node\n",
    "        if self.head is None: # 2. if the Linked List is empty then update new node as head\n",
    "            self.head = new_node\n",
    "            return\n",
    "            \n",
    "        last = self.head\n",
    "        while (last.next):\n",
    "            last = last.next\n",
    "        last.next = new_node\n",
    "        \n",
    "    def printLinkedList(self): # to print the linked list\n",
    "        temp = self.head\n",
    "        while (temp):\n",
    "            print(temp.data)\n",
    "            temp = temp.next\n",
    "    \n",
    "    def swapNodes(self,val1,val2):\n",
    "        temp = self.head\n",
    "        n1 = None\n",
    "        n2 = None\n",
    "        \n",
    "        if val1 == val2:\n",
    "            return\n",
    "        \n",
    "        if temp.data == val1:\n",
    "            n1 = temp\n",
    "            prev1 = None\n",
    "        \n",
    "        if temp.data == val2:\n",
    "            n2 = temp\n",
    "            prev2 = None\n",
    "        \n",
    "        if n1 is not None or n2 is not None:\n",
    "            prev = None\n",
    "            while (temp):\n",
    "                if temp.data == val1 and n1 is not None: \n",
    "                    n1 = temp\n",
    "                    prev1 = prev\n",
    "                if temp.data == val2 and n2 is not None:\n",
    "                    n2 = temp\n",
    "                    prev2 = prev\n",
    "                    \n",
    "                if n1 is None or n2 is None:\n",
    "                    prev = temp\n",
    "                    temp = temp.next\n",
    "                    \n",
    "        if n1 is None or n2 is None:\n",
    "            return\n",
    "        \n",
    "        #swap prev node links\n",
    "        \n",
    "        if prev1 != None: # if n1 is not head\n",
    "            prev1.next = n2\n",
    "        else:\n",
    "            self.head = n2\n",
    "        \n",
    "        if prev2 != None:# if n2 is not head\n",
    "            prev2.next = n1\n",
    "        else:\n",
    "            self.head = n1\n",
    "        \n",
    "        # swap next node links\n",
    "        temp = n1.next\n",
    "        n1.next = n2.next\n",
    "        n2.next = temp\n",
    "        \n",
    "    def swapNodes1(self, x, y):\n",
    " \n",
    "        # Nothing to do if x and y are same\n",
    "        if x == y:\n",
    "            return\n",
    " \n",
    "        # Search for x (keep track of prevX and CurrX)\n",
    "        prevX = None\n",
    "        currX = self.head\n",
    "        while currX != None and currX.data != x:\n",
    "            prevX = currX\n",
    "            currX = currX.next\n",
    " \n",
    "        # Search for y (keep track of prevY and currY)\n",
    "        prevY = None\n",
    "        currY = self.head\n",
    "        while currY != None and currY.data != y:\n",
    "            prevY = currY\n",
    "            currY = currY.next\n",
    " \n",
    "        # If either x or y is not present, nothing to do\n",
    "        if currX == None or currY == None:\n",
    "            return\n",
    "        # If x is not head of linked list\n",
    "        if prevX != None:\n",
    "            prevX.next = currY\n",
    "        else: #make y the new head\n",
    "            self.head = currY\n",
    " \n",
    "        # If y is not head of linked list\n",
    "        if prevY != None:\n",
    "            prevY.next = currX\n",
    "        else: # make x the new head\n",
    "            self.head = currX\n",
    " \n",
    "        # Swap next pointers\n",
    "        temp = currX.next\n",
    "        currX.next = currY.next\n",
    "        currY.next = temp"
   ]
  },
  {
   "cell_type": "code",
   "execution_count": 9,
   "metadata": {},
   "outputs": [
    {
     "name": "stdout",
     "output_type": "stream",
     "text": [
      "6\n",
      "5\n",
      "4\n",
      "7\n"
     ]
    }
   ],
   "source": [
    "ll = SinglyLinkedList()\n",
    "ll.insertAtEnd(6)\n",
    "ll.insertAtEnd(5)\n",
    "ll.insertAtEnd(4)\n",
    "ll.insertAtEnd(7)\n",
    "\n",
    "ll.printLinkedList()"
   ]
  },
  {
   "cell_type": "code",
   "execution_count": 10,
   "metadata": {
    "collapsed": true
   },
   "outputs": [],
   "source": [
    "#ll.swapNodes(4,5)\n",
    "ll.swapNodes1(4,5)"
   ]
  },
  {
   "cell_type": "code",
   "execution_count": 11,
   "metadata": {},
   "outputs": [
    {
     "name": "stdout",
     "output_type": "stream",
     "text": [
      "6\n",
      "4\n",
      "5\n",
      "7\n"
     ]
    }
   ],
   "source": [
    "ll.printLinkedList()"
   ]
  },
  {
   "cell_type": "code",
   "execution_count": null,
   "metadata": {
    "collapsed": true
   },
   "outputs": [],
   "source": []
  }
 ],
 "metadata": {
  "kernelspec": {
   "display_name": "Python 3",
   "language": "python",
   "name": "python3"
  },
  "language_info": {
   "codemirror_mode": {
    "name": "ipython",
    "version": 3
   },
   "file_extension": ".py",
   "mimetype": "text/x-python",
   "name": "python",
   "nbconvert_exporter": "python",
   "pygments_lexer": "ipython3",
   "version": "3.6.1"
  }
 },
 "nbformat": 4,
 "nbformat_minor": 2
}
