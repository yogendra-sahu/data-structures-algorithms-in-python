{
 "cells": [
  {
   "cell_type": "markdown",
   "metadata": {},
   "source": [
    "## Singly Linked List implementation in Python"
   ]
  },
  {
   "attachments": {
    "single-list.png": {
     "image/png": "[encoded data removed]"
    }
   },
   "cell_type": "markdown",
   "metadata": {},
   "source": [
    "Linked List is a linear data structure where elements are linked using pointers, not stored at contiguous location like in arrays.\n",
    "\n",
    "* In Linked List, Insert and Delete operation at any position requires O(1) time. In Arrays, its O(n).  \n",
    "* Accessing an element requires O(k) in Linked List (k=position number) whereas in Arrays, its O(1)  \n",
    "* Linked List continues to grow with specifying size.\n",
    "![single-list.png](attachment:single-list.png)"
   ]
  },
  {
   "attachments": {
    "Linkedlist_deletion.png": {
     "image/png": "[encoded data removed]"
    },
    "Linkedlist_insert_middle.png": {
     "image/png": "[encoded data removed]"
    }
   },
   "cell_type": "markdown",
   "metadata": {},
   "source": [
    "## Inserting a Node\n",
    "\n",
    " A node can be added in three ways:    \n",
    "1) At the front of the linked list  \n",
    "2) After a given node.  \n",
    "3) At the end of the linked list.\n",
    "![Linkedlist_insert_middle.png](attachment:Linkedlist_insert_middle.png)\n",
    "\n",
    "## Deleting a Node\n",
    "![Linkedlist_deletion.png](attachment:Linkedlist_deletion.png)"
   ]
  },
  {
   "cell_type": "code",
   "execution_count": 150,
   "metadata": {
    "collapsed": true
   },
   "outputs": [],
   "source": [
    "class Node(object):\n",
    "    def __init__(self, data):\n",
    "        self.data = data\n",
    "        self.next = None\n",
    "\n",
    "class SinglyLinkedList(object):\n",
    "    def __init__(self):\n",
    "        self.head = None\n",
    "        \n",
    "    def insertAtBeginning(self, new_data):\n",
    "        new_node = Node(new_data) # 1. create a new node\n",
    "        new_node.next = self.head # 2. make next of new node to head\n",
    "        self.head = new_node # 3. make new head to point to new node\n",
    "\n",
    "    def insertAtEnd(self, new_data):\n",
    "        new_node = Node(new_data) # 1. create a new node\n",
    "        if self.head is None: # 2. if the Linked List is empty then update new node as head\n",
    "            self.head = new_node\n",
    "            return\n",
    "            \n",
    "        last = self.head\n",
    "        while (last.next):\n",
    "            last = last.next\n",
    "        last.next = new_node\n",
    "        \n",
    "    def insertAfter(self,prev_node,new_data):\n",
    "        if prev_node is None:\n",
    "            return \"prev_node is blank\"\n",
    "        \n",
    "        new_node = Node(new_data)\n",
    "        new_node.next = prev_node.next\n",
    "        prev_node.next = new_node\n",
    " \n",
    "    def printLinkedList(self): # to print the linked list\n",
    "        temp = self.head\n",
    "        while (temp):\n",
    "            print(temp.data)\n",
    "            temp = temp.next\n",
    "            \n",
    "    def __iter__(self): # implementing __iter__ to make the linked list iterable\n",
    "        node = self.head\n",
    "        while node:\n",
    "            yield node\n",
    "            node = node.next\n",
    "            \n",
    "    def deleteNodeByKey(self,key):\n",
    "        temp = self.head\n",
    "        \n",
    "        if (temp is not None):\n",
    "            if key == temp.data: # if key is head then change head\n",
    "                self.head = temp.next\n",
    "                temp = None\n",
    "                return\n",
    "        \n",
    "        while (temp is not None):\n",
    "            if temp.data == key:\n",
    "                break\n",
    "            prev = temp\n",
    "            temp = temp.next\n",
    "            \n",
    "        prev.next = temp.next\n",
    "        temp = None\n",
    "        \n",
    "    def deleteNodeByPosition(self,position):\n",
    "        \n",
    "        if self.head == None: # If linked list is empty\n",
    "            return\n",
    "\n",
    "        temp = self.head\n",
    " \n",
    "        if position == 0: # If head needs to be removed\n",
    "            self.head = temp.next\n",
    "            temp = None\n",
    "            return\n",
    " \n",
    "        # Find previous node of the node to be deleted; temp is prev\n",
    "        for i in range(position -1 ):\n",
    "            temp = temp.next\n",
    "            if temp is None:\n",
    "                break\n",
    " \n",
    "        # If position is more than number of nodes\n",
    "        if temp is None:\n",
    "            return 'invalid position'\n",
    "        if temp.next is None:\n",
    "            return 'invalid position'\n",
    " \n",
    "        # Node temp.next is the node to be deleted\n",
    "        # store pointer to the next of node to be deleted\n",
    "        next = temp.next.next\n",
    " \n",
    "        # Unlink the node from linked list\n",
    "        temp.next = None\n",
    "        temp.next = next\n",
    "        \n",
    "    def getCountIteratively(self):\n",
    "        count = 0\n",
    "        curr_node = self.head\n",
    "        \n",
    "        while curr_node:\n",
    "            count += 1\n",
    "            curr_node = curr_node.next\n",
    "        return count\n",
    "    \n",
    "    def getCountRec(self,node):    \n",
    "        if node is None:\n",
    "            return 0\n",
    "        else:\n",
    "            return 1 + self.getCountRec(node.next)\n",
    "    \n",
    "    def getCountRecursively(self): # wrapper method for getCountRec\n",
    "        return self.getCountRec(self.head)\n",
    "    "
   ]
  },
  {
   "cell_type": "code",
   "execution_count": 151,
   "metadata": {},
   "outputs": [
    {
     "name": "stdout",
     "output_type": "stream",
     "text": [
      "4\n",
      "5\n",
      "2\n",
      "6\n",
      "7\n"
     ]
    }
   ],
   "source": [
    "ll = SinglyLinkedList()\n",
    "ll.insertAtEnd(6)\n",
    "ll.insertAtBeginning(5)\n",
    "ll.insertAtBeginning(4)\n",
    "ll.insertAtEnd(7)\n",
    "ll.insertAfter(ll.head.next,2)\n",
    "\n",
    "ll.printLinkedList()"
   ]
  },
  {
   "cell_type": "code",
   "execution_count": 152,
   "metadata": {},
   "outputs": [
    {
     "name": "stdout",
     "output_type": "stream",
     "text": [
      "['A0', 'A', 'B', 'C']\n"
     ]
    }
   ],
   "source": [
    "linked_list = SinglyLinkedList()\n",
    "linked_list.insertAtEnd('A')\n",
    "linked_list.insertAtEnd('B')\n",
    "linked_list.insertAtEnd('C')\n",
    "linked_list.insertAtBeginning('A0')\n",
    "\n",
    "print([node.data for node in linked_list])"
   ]
  },
  {
   "cell_type": "code",
   "execution_count": 153,
   "metadata": {},
   "outputs": [
    {
     "name": "stdout",
     "output_type": "stream",
     "text": [
      "5\n",
      "7\n"
     ]
    }
   ],
   "source": [
    "ll.deleteNodeByKey(2)\n",
    "ll.deleteNodeByKey(4)\n",
    "ll.deleteNodeByPosition(1)\n",
    "ll.deleteNodeByPosition(3)\n",
    "ll.printLinkedList()"
   ]
  },
  {
   "cell_type": "code",
   "execution_count": 154,
   "metadata": {},
   "outputs": [
    {
     "data": {
      "text/plain": [
       "2"
      ]
     },
     "execution_count": 154,
     "metadata": {},
     "output_type": "execute_result"
    }
   ],
   "source": [
    "ll.getCountIteratively()\n",
    "ll.getCountRecursively()"
   ]
  }
 ],
 "metadata": {
  "kernelspec": {
   "display_name": "Python 3",
   "language": "python",
   "name": "python3"
  },
  "language_info": {
   "codemirror_mode": {
    "name": "ipython",
    "version": 3
   },
   "file_extension": ".py",
   "mimetype": "text/x-python",
   "name": "python",
   "nbconvert_exporter": "python",
   "pygments_lexer": "ipython3",
   "version": "3.6.1"
  }
 },
 "nbformat": 4,
 "nbformat_minor": 2
}
