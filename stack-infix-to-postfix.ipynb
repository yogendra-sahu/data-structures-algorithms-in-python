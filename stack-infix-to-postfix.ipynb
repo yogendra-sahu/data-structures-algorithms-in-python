{
 "cells": [
  {
   "cell_type": "code",
   "execution_count": 1,
   "metadata": {
    "collapsed": true
   },
   "outputs": [],
   "source": [
    "class Stack:\n",
    "    def __init__(self):\n",
    "        self.stack = []\n",
    "        \n",
    "    def push(self,data):\n",
    "        self.stack.append(data)\n",
    "        \n",
    "    def isEmpty(self):\n",
    "        return len(self.stack) == 0\n",
    "    \n",
    "    def pop(self):\n",
    "        if not self.isEmpty():\n",
    "            return self.stack.pop()\n",
    "        else:\n",
    "            return None\n",
    "    \n",
    "    def top(self):\n",
    "        return self.stack[-1]\n",
    "        \n",
    "class Conversion:\n",
    "    def __init__(self):\n",
    "        self.precedence = {'^':3,'*':2,'/':2,'+':1,'-':1}\n",
    "        \n",
    "    def notGreater(self, stack, char):\n",
    "        try:\n",
    "            if self.precedence[char] <= self.precedence[stack.top()]:\n",
    "                return True\n",
    "            else:\n",
    "                return False\n",
    "        except KeyError:\n",
    "            return False\n",
    "                    \n",
    "    def infixToPostfix(self, stack, infix_Expr):\n",
    "        postfix_Expr = []\n",
    "        \n",
    "        for i in infix_Expr:\n",
    "            #print('i=',i)\n",
    "            \n",
    "            if i.isalpha():\n",
    "                postfix_Expr.append(i)\n",
    "            elif i == '(':\n",
    "                stack.push(i)\n",
    "\n",
    "            elif i == ')':\n",
    "                #print(1)\n",
    "                \n",
    "                while((not stack.isEmpty()) and stack.top() != '('):\n",
    "                    postfix_Expr.append(stack.pop())\n",
    "                stack.pop()\n",
    "\n",
    "            else:\n",
    "                while ((not stack.isEmpty()) and (self.notGreater(stack,i))):\n",
    "                    postfix_Expr.append(stack.pop())\n",
    "                stack.push(i)\n",
    "                    \n",
    "            #print('Stack: ',stack.stack)\n",
    "            #print('postfix_Expr: ',postfix_Expr)\n",
    "\n",
    "        while (not stack.isEmpty()):\n",
    "            #print('last')\n",
    "            postfix_Expr.append(stack.pop())\n",
    "\n",
    "        return ''.join(postfix_Expr)"
   ]
  },
  {
   "cell_type": "code",
   "execution_count": 2,
   "metadata": {},
   "outputs": [],
   "source": [
    "stack = Stack()\n",
    "c = Conversion()\n",
    "postfix_expression = c.infixToPostfix(stack, 'A+(B*C)')"
   ]
  },
  {
   "cell_type": "code",
   "execution_count": 3,
   "metadata": {},
   "outputs": [
    {
     "data": {
      "text/plain": [
       "'ABC*+'"
      ]
     },
     "execution_count": 3,
     "metadata": {},
     "output_type": "execute_result"
    }
   ],
   "source": [
    "postfix_expression"
   ]
  },
  {
   "cell_type": "code",
   "execution_count": 4,
   "metadata": {},
   "outputs": [
    {
     "data": {
      "text/plain": [
       "[]"
      ]
     },
     "execution_count": 4,
     "metadata": {},
     "output_type": "execute_result"
    }
   ],
   "source": [
    "stack.stack"
   ]
  },
  {
   "cell_type": "code",
   "execution_count": 5,
   "metadata": {},
   "outputs": [],
   "source": [
    "stack = Stack()\n",
    "c = Conversion()\n",
    "postfix_expression = c.infixToPostfix(stack, 'a+b*(c^d-e)^(f+g*h)-i')"
   ]
  },
  {
   "cell_type": "code",
   "execution_count": 6,
   "metadata": {},
   "outputs": [
    {
     "name": "stdout",
     "output_type": "stream",
     "text": [
      "abcd^e-fgh*+^*+i- []\n"
     ]
    }
   ],
   "source": [
    "print(postfix_expression, stack.stack)"
   ]
  },
  {
   "cell_type": "code",
   "execution_count": null,
   "metadata": {
    "collapsed": true
   },
   "outputs": [],
   "source": []
  },
  {
   "cell_type": "code",
   "execution_count": null,
   "metadata": {
    "collapsed": true
   },
   "outputs": [],
   "source": []
  }
 ],
 "metadata": {
  "kernelspec": {
   "display_name": "Python 3",
   "language": "python",
   "name": "python3"
  },
  "language_info": {
   "codemirror_mode": {
    "name": "ipython",
    "version": 3
   },
   "file_extension": ".py",
   "mimetype": "text/x-python",
   "name": "python",
   "nbconvert_exporter": "python",
   "pygments_lexer": "ipython3",
   "version": "3.6.1"
  }
 },
 "nbformat": 4,
 "nbformat_minor": 2
}
