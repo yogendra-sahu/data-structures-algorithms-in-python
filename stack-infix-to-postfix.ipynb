{
 "cells": [
  {
   "cell_type": "code",
   "execution_count": 44,
   "metadata": {
    "collapsed": true
   },
   "outputs": [],
   "source": [
    "class Stack:\n",
    "    def __init__(self):\n",
    "        self.stack = []\n",
    "    def push(self,data):\n",
    "        self.stack.append(data)\n",
    "    def isEmpty(self):\n",
    "        return len(self.stack) == 0\n",
    "    \n",
    "    def pop(self):\n",
    "        if self.isEmpty() is False:\n",
    "            return self.stack.pop(len(self.stack)-1)\n",
    "        else:\n",
    "            return None\n",
    "    \n",
    "    def top(self):\n",
    "        if self.isEmpty() is False:\n",
    "            return self.stack[-1]\n",
    "        else:\n",
    "            return None\n",
    "        \n",
    "    def infixToPostfix(self,infix_Expr):\n",
    "        postfix_Expr = []\n",
    "        precedence = {'^':3,'*':2,'/':2,'+':1,'-':1}\n",
    "        for i in infix_Expr:\n",
    "            print('i=',i)\n",
    "            print('Stack: ',self.stack)\n",
    "            if i.isalpha() or i.isdigit():# or i == '(':\n",
    "                postfix_Expr.append(i)\n",
    "                print('postfix_Expr: ',postfix_Expr)\n",
    "            elif i == '(':\n",
    "                self.push(i)\n",
    "            elif i in '*/^+-':\n",
    "                if self.isEmpty() is True:\n",
    "                    self.push(i)\n",
    "                elif self.top() in '*/^+-':\n",
    "                    if precedence[i] > precedence[self.top()]:\n",
    "                        self.push(i)\n",
    "                        print(1)\n",
    "                    else:\n",
    "                        print(11)\n",
    "                        postfix_Expr.append(self.pop())\n",
    "                        print('postfix_Expr: ',postfix_Expr)\n",
    "                        self.push(i)\n",
    "            elif i == ')':\n",
    "                print(111)\n",
    "                while(self.top() != '('):\n",
    "                    t = self.pop()\n",
    "                    print('t',t)\n",
    "                    if t is not None:\n",
    "                        postfix_Expr.append(t)\n",
    "                        print('postfix_Expr: ',postfix_Expr)\n",
    "                        break\n",
    "        while (True):\n",
    "            print('last')\n",
    "            t = self.pop()\n",
    "            if t is not None:\n",
    "                postfix_Expr.append(t)\n",
    "                print('postfix_Expr: ',postfix_Expr)\n",
    "                break\n",
    "        return ''.join(postfix_Expr)"
   ]
  },
  {
   "cell_type": "code",
   "execution_count": 45,
   "metadata": {},
   "outputs": [
    {
     "name": "stdout",
     "output_type": "stream",
     "text": [
      "i= A\n",
      "Stack:  []\n",
      "postfix_Expr:  ['A']\n",
      "i= +\n",
      "Stack:  []\n",
      "i= (\n",
      "Stack:  ['+']\n",
      "i= B\n",
      "Stack:  ['+', '(']\n",
      "postfix_Expr:  ['A', 'B']\n",
      "i= *\n",
      "Stack:  ['+', '(']\n",
      "i= C\n",
      "Stack:  ['+', '(']\n",
      "postfix_Expr:  ['A', 'B', 'C']\n",
      "i= )\n",
      "Stack:  ['+', '(']\n",
      "111\n",
      "last\n",
      "postfix_Expr:  ['A', 'B', 'C', '(']\n"
     ]
    }
   ],
   "source": [
    "stack = Stack()\n",
    "postfix_expression = stack.infixToPostfix('A+(B*C)')"
   ]
  },
  {
   "cell_type": "code",
   "execution_count": 29,
   "metadata": {},
   "outputs": [
    {
     "data": {
      "text/plain": [
       "'ABC('"
      ]
     },
     "execution_count": 29,
     "metadata": {},
     "output_type": "execute_result"
    }
   ],
   "source": [
    "postfix_expression"
   ]
  },
  {
   "cell_type": "code",
   "execution_count": 26,
   "metadata": {},
   "outputs": [
    {
     "data": {
      "text/plain": [
       "['+']"
      ]
     },
     "execution_count": 26,
     "metadata": {},
     "output_type": "execute_result"
    }
   ],
   "source": [
    "stack.stack"
   ]
  },
  {
   "cell_type": "code",
   "execution_count": 47,
   "metadata": {},
   "outputs": [
    {
     "data": {
      "text/plain": [
       "True"
      ]
     },
     "execution_count": 47,
     "metadata": {},
     "output_type": "execute_result"
    }
   ],
   "source": [
    "'+' in '*/^+-'"
   ]
  },
  {
   "cell_type": "code",
   "execution_count": null,
   "metadata": {
    "collapsed": true
   },
   "outputs": [],
   "source": []
  }
 ],
 "metadata": {
  "kernelspec": {
   "display_name": "Python 3",
   "language": "python",
   "name": "python3"
  },
  "language_info": {
   "codemirror_mode": {
    "name": "ipython",
    "version": 3
   },
   "file_extension": ".py",
   "mimetype": "text/x-python",
   "name": "python",
   "nbconvert_exporter": "python",
   "pygments_lexer": "ipython3",
   "version": "3.6.1"
  }
 },
 "nbformat": 4,
 "nbformat_minor": 2
}
